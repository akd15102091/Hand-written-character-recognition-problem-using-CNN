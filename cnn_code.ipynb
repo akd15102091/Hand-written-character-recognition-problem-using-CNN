{
 "cells": [
  {
   "cell_type": "code",
   "execution_count": 1,
   "metadata": {},
   "outputs": [],
   "source": [
    "\n",
    "import os\n",
    "import random\n",
    "import pandas as pd\n",
    "import numpy as np\n",
    "import cv2\n",
    "from keras.utils import np_utils"
   ]
  },
  {
   "cell_type": "code",
   "execution_count": 2,
   "metadata": {},
   "outputs": [],
   "source": [
    "IMAGE_SIZE = 100"
   ]
  },
  {
   "cell_type": "code",
   "execution_count": 3,
   "metadata": {},
   "outputs": [],
   "source": [
    "Class=[]\n",
    "\n",
    "for i in range(0,10) :\n",
    "    Class.append(i)\n",
    "    \n",
    "for i in range(0,26):\n",
    "    Class.append(chr(65+i))"
   ]
  },
  {
   "cell_type": "code",
   "execution_count": 4,
   "metadata": {
    "scrolled": true
   },
   "outputs": [
    {
     "data": {
      "text/plain": [
       "[0,\n",
       " 1,\n",
       " 2,\n",
       " 3,\n",
       " 4,\n",
       " 5,\n",
       " 6,\n",
       " 7,\n",
       " 8,\n",
       " 9,\n",
       " 'A',\n",
       " 'B',\n",
       " 'C',\n",
       " 'D',\n",
       " 'E',\n",
       " 'F',\n",
       " 'G',\n",
       " 'H',\n",
       " 'I',\n",
       " 'J',\n",
       " 'K',\n",
       " 'L',\n",
       " 'M',\n",
       " 'N',\n",
       " 'O',\n",
       " 'P',\n",
       " 'Q',\n",
       " 'R',\n",
       " 'S',\n",
       " 'T',\n",
       " 'U',\n",
       " 'V',\n",
       " 'W',\n",
       " 'X',\n",
       " 'Y',\n",
       " 'Z']"
      ]
     },
     "execution_count": 4,
     "metadata": {},
     "output_type": "execute_result"
    }
   ],
   "source": [
    "Class"
   ]
  },
  {
   "cell_type": "code",
   "execution_count": 5,
   "metadata": {
    "scrolled": true
   },
   "outputs": [
    {
     "data": {
      "text/plain": [
       "['Sample001',\n",
       " 'Sample002',\n",
       " 'Sample003',\n",
       " 'Sample004',\n",
       " 'Sample005',\n",
       " 'Sample006',\n",
       " 'Sample007',\n",
       " 'Sample008',\n",
       " 'Sample009',\n",
       " 'Sample010',\n",
       " 'Sample011',\n",
       " 'Sample012',\n",
       " 'Sample013',\n",
       " 'Sample014',\n",
       " 'Sample015',\n",
       " 'Sample016',\n",
       " 'Sample017',\n",
       " 'Sample018',\n",
       " 'Sample019',\n",
       " 'Sample020',\n",
       " 'Sample021',\n",
       " 'Sample022',\n",
       " 'Sample023',\n",
       " 'Sample024',\n",
       " 'Sample025',\n",
       " 'Sample026',\n",
       " 'Sample027',\n",
       " 'Sample028',\n",
       " 'Sample029',\n",
       " 'Sample030',\n",
       " 'Sample031',\n",
       " 'Sample032',\n",
       " 'Sample033',\n",
       " 'Sample034',\n",
       " 'Sample035',\n",
       " 'Sample036']"
      ]
     },
     "execution_count": 5,
     "metadata": {},
     "output_type": "execute_result"
    }
   ],
   "source": [
    "foldername_of_classes=[]\n",
    "for i in range(1,37) :\n",
    "    folderName = str(i)\n",
    "    if len(folderName) == 1:\n",
    "        folderName = '00'+folderName\n",
    "    elif len(folderName) == 2:\n",
    "        folderName = '0'+folderName\n",
    "    folderName = 'Sample'+folderName\n",
    "    foldername_of_classes.append(folderName)\n",
    "    \n",
    "\n",
    "foldername_of_classes    "
   ]
  },
  {
   "cell_type": "code",
   "execution_count": 67,
   "metadata": {},
   "outputs": [],
   "source": [
    "def create_data(dir_name) :\n",
    "    data_set = []\n",
    "    \n",
    "    for i in range(1,37) :\n",
    "        folderName = str(i)\n",
    "        if len(folderName) == 1:\n",
    "            folderName = '00'+folderName\n",
    "        elif len(folderName) == 2:\n",
    "            folderName = '0'+folderName\n",
    "        folderName = 'Sample'+folderName\n",
    "        \n",
    "        cl_path = os.path.join(dir_name,folderName)\n",
    "        class_num = foldername_of_classes.index(folderName)\n",
    "        print(len(os.listdir(cl_path)))\n",
    "        cnt=0\n",
    "        for img in os.listdir(cl_path) :\n",
    "            if cnt == 80:\n",
    "                break\n",
    "            try :\n",
    "                img_array = cv2.imread(os.path.join(cl_path,img))\n",
    "                img_array = cv2.resize(img_array,(IMAGE_SIZE,IMAGE_SIZE))\n",
    "                gray_img  = cv2.cvtColor(img_array, cv2.COLOR_BGR2GRAY)\n",
    "                data_set.append([gray_img, class_num])\n",
    "                cnt = cnt+1\n",
    "            except :\n",
    "                pass\n",
    "            \n",
    "                    \n",
    "        \n",
    "    return data_set"
   ]
  },
  {
   "cell_type": "code",
   "execution_count": 8,
   "metadata": {
    "scrolled": true
   },
   "outputs": [
    {
     "name": "stdout",
     "output_type": "stream",
     "text": [
      "105\n",
      "79\n",
      "70\n",
      "50\n",
      "47\n",
      "64\n",
      "64\n",
      "48\n",
      "32\n",
      "34\n",
      "558\n",
      "115\n",
      "215\n",
      "191\n",
      "446\n",
      "79\n",
      "143\n",
      "193\n",
      "302\n",
      "77\n",
      "92\n",
      "215\n",
      "149\n",
      "363\n",
      "382\n",
      "159\n",
      "35\n",
      "389\n",
      "342\n",
      "312\n",
      "92\n",
      "84\n",
      "67\n",
      "80\n",
      "67\n",
      "55\n"
     ]
    }
   ],
   "source": [
    "data = create_data(\"Images\")"
   ]
  },
  {
   "cell_type": "code",
   "execution_count": null,
   "metadata": {},
   "outputs": [],
   "source": [
    "#Data Augmentation"
   ]
  },
  {
   "cell_type": "code",
   "execution_count": 33,
   "metadata": {},
   "outputs": [],
   "source": [
    "'''\n",
    "from keras.preprocessing.image import ImageDataGenerator, array_to_img, img_to_array, load_img\n",
    "\n",
    "datagen = ImageDataGenerator(\n",
    "            rotation_range=5,\n",
    "            fill_mode=\"nearest\"\n",
    "            )\n",
    "'''"
   ]
  },
  {
   "cell_type": "code",
   "execution_count": 34,
   "metadata": {},
   "outputs": [],
   "source": [
    "'''\n",
    "for i in range(1,37) :\n",
    "    folderName = str(i)\n",
    "    if len(folderName) == 1:\n",
    "        folderName = '00'+folderName\n",
    "    elif len(folderName) == 2:\n",
    "        folderName = '0'+folderName\n",
    "    folderName = 'Sample'+folderName\n",
    "\n",
    "    cl_path = os.path.join(\"Images\",folderName)\n",
    "    class_num = foldername_of_classes.index(folderName)\n",
    "    numOfImages = len(os.listdir(cl_path))\n",
    "    \n",
    "    \n",
    "    try:\n",
    "        os.mkdir(\"AugmentedImages/\"+folderName)\n",
    "    except:\n",
    "        pass\n",
    "  \n",
    "    for img in os.listdir(cl_path) :\n",
    "        img = load_img(os.path.join(cl_path,img))\n",
    "        x = img_to_array(img) \n",
    "        x = x.reshape((1,)+x.shape)\n",
    "        if numOfImages<=40 :\n",
    "            j=0\n",
    "            for batch in datagen.flow(x,batch_size=1,\n",
    "                                     save_to_dir=\"AugmentedImages/\"+folderName,save_prefix = \"img\",save_format=\"jpeg\") :\n",
    "                j +=1\n",
    "                if j>7:\n",
    "                    break;\n",
    "                    \n",
    "        elif numOfImages>40 and  numOfImages<=60:\n",
    "            j=0\n",
    "            for batch in datagen.flow(x,batch_size=1,\n",
    "                                     save_to_dir=\"AugmentedImages/\"+folderName,save_prefix = \"img\",save_format=\"jpeg\") :\n",
    "                j +=1\n",
    "                if j>5 :\n",
    "                    break;\n",
    "                    \n",
    "        elif numOfImages>60 and  numOfImages<=100:\n",
    "            j=0\n",
    "            for batch in datagen.flow(x,batch_size=1,\n",
    "                                     save_to_dir=\"AugmentedImages/\"+folderName,save_prefix = \"img\",save_format=\"jpeg\") :\n",
    "                j +=1\n",
    "                if j>3 :\n",
    "                    break;\n",
    "                    \n",
    "        elif numOfImages>100 and  numOfImages<=200:\n",
    "            j=0\n",
    "            for batch in datagen.flow(x,batch_size=1,\n",
    "                                     save_to_dir=\"AugmentedImages/\"+folderName,save_prefix = \"img\",save_format=\"jpeg\") :\n",
    "                j +=1\n",
    "                if j>1 :\n",
    "                    break;\n",
    "                    \n",
    "        else:\n",
    "            j=0\n",
    "            for batch in datagen.flow(x,batch_size=1,\n",
    "                                     save_to_dir=\"AugmentedImages/\"+folderName,save_prefix = \"img\",save_format=\"jpeg\") :\n",
    "                j +=1\n",
    "                if j>0 :\n",
    "                    break;\n",
    "        \n",
    "        \n",
    "'''      "
   ]
  },
  {
   "cell_type": "code",
   "execution_count": null,
   "metadata": {},
   "outputs": [],
   "source": []
  },
  {
   "cell_type": "code",
   "execution_count": 68,
   "metadata": {
    "scrolled": true
   },
   "outputs": [
    {
     "name": "stdout",
     "output_type": "stream",
     "text": [
      "210\n",
      "304\n",
      "276\n",
      "294\n",
      "281\n",
      "252\n",
      "254\n",
      "284\n",
      "254\n",
      "266\n",
      "545\n",
      "226\n",
      "214\n",
      "372\n",
      "435\n",
      "310\n",
      "280\n",
      "381\n",
      "295\n",
      "305\n",
      "359\n",
      "212\n",
      "294\n",
      "354\n",
      "368\n",
      "313\n",
      "279\n",
      "381\n",
      "338\n",
      "308\n",
      "364\n",
      "332\n",
      "265\n",
      "315\n",
      "263\n",
      "325\n"
     ]
    }
   ],
   "source": [
    "data = create_data(\"AugmentedImages\")"
   ]
  },
  {
   "cell_type": "code",
   "execution_count": null,
   "metadata": {},
   "outputs": [],
   "source": [
    "#as we can see this is imbalanced dataset"
   ]
  },
  {
   "cell_type": "code",
   "execution_count": 69,
   "metadata": {},
   "outputs": [
    {
     "name": "stdout",
     "output_type": "stream",
     "text": [
      "2880\n"
     ]
    }
   ],
   "source": [
    "random.shuffle(data)\n",
    "print(len(data))"
   ]
  },
  {
   "cell_type": "code",
   "execution_count": 70,
   "metadata": {},
   "outputs": [],
   "source": [
    "X =[]\n",
    "y=[]\n",
    "\n",
    "for features,label in data:\n",
    "    X.append(features)\n",
    "    y.append(label)"
   ]
  },
  {
   "cell_type": "code",
   "execution_count": 71,
   "metadata": {},
   "outputs": [],
   "source": [
    "from sklearn.model_selection import train_test_split\n",
    "X_train, X_test, y_train, y_test = train_test_split(X,y, test_size=0.2,random_state=51)"
   ]
  },
  {
   "cell_type": "code",
   "execution_count": 72,
   "metadata": {},
   "outputs": [
    {
     "data": {
      "text/plain": [
       "(2880, 100, 100)"
      ]
     },
     "execution_count": 72,
     "metadata": {},
     "output_type": "execute_result"
    }
   ],
   "source": [
    "np.array(X).shape"
   ]
  },
  {
   "cell_type": "code",
   "execution_count": 73,
   "metadata": {},
   "outputs": [],
   "source": [
    "X_train =np.array(X_train).reshape(-1,100,100,1)\n",
    "X_test =np.array(X_test).reshape(-1,100,100,1)"
   ]
  },
  {
   "cell_type": "code",
   "execution_count": 74,
   "metadata": {},
   "outputs": [
    {
     "data": {
      "text/plain": [
       "(2304, 100, 100, 1)"
      ]
     },
     "execution_count": 74,
     "metadata": {},
     "output_type": "execute_result"
    }
   ],
   "source": [
    "X_train.shape"
   ]
  },
  {
   "cell_type": "code",
   "execution_count": 75,
   "metadata": {},
   "outputs": [],
   "source": [
    "y_train = np.array(y_train)\n",
    "y_test = np.array(y_test)"
   ]
  },
  {
   "cell_type": "code",
   "execution_count": 76,
   "metadata": {},
   "outputs": [],
   "source": [
    "X_train =X_train/255.0\n",
    "X_test = X_test/255.0"
   ]
  },
  {
   "cell_type": "code",
   "execution_count": 77,
   "metadata": {},
   "outputs": [],
   "source": [
    "# max(y)"
   ]
  },
  {
   "cell_type": "code",
   "execution_count": 78,
   "metadata": {},
   "outputs": [],
   "source": [
    "from keras.utils import np_utils\n",
    "\n",
    "y_train = np_utils.to_categorical(y_train, 36)\n",
    "\n",
    "y_test = np_utils.to_categorical(y_test, 36)"
   ]
  },
  {
   "cell_type": "code",
   "execution_count": null,
   "metadata": {},
   "outputs": [],
   "source": [
    "y"
   ]
  },
  {
   "cell_type": "markdown",
   "metadata": {},
   "source": [
    "### Apply CNN"
   ]
  },
  {
   "cell_type": "code",
   "execution_count": 79,
   "metadata": {},
   "outputs": [],
   "source": [
    "from tensorflow.keras.models import Sequential\n",
    "from tensorflow.keras.layers import Dense , Conv2D , MaxPooling2D ,Flatten"
   ]
  },
  {
   "cell_type": "code",
   "execution_count": 80,
   "metadata": {},
   "outputs": [],
   "source": [
    "model = Sequential()\n",
    "\n",
    "model.add(Conv2D(64 , (3,3) ,input_shape = X_train.shape[1:] ,activation = 'relu' ))\n",
    "model.add(MaxPooling2D(pool_size = (2,2) , strides = (2,2)))\n",
    "\n",
    "model.add(Conv2D(128 , (3,3) ,padding = \"same\", activation = 'relu' ))\n",
    "model.add(MaxPooling2D(pool_size = (2,2) , strides = (2,2)))\n",
    "\n",
    "model.add(Conv2D(96 , (3,3) ,padding = \"same\", activation = 'relu' ))\n",
    "model.add(MaxPooling2D(pool_size = (2,2) , strides = (2,2)))\n",
    "\n",
    "model.add(Flatten())\n",
    "\n",
    "model.add(Dense(activation='relu' , units =128 ))\n",
    "\n",
    "model.add(Dense(36,activation = 'softmax'))\n",
    "\n",
    "model.compile(loss=\"categorical_crossentropy\" , optimizer= 'adam' ,metrics=['accuracy'])"
   ]
  },
  {
   "cell_type": "code",
   "execution_count": 81,
   "metadata": {},
   "outputs": [
    {
     "name": "stdout",
     "output_type": "stream",
     "text": [
      "Model: \"sequential_5\"\n",
      "_________________________________________________________________\n",
      "Layer (type)                 Output Shape              Param #   \n",
      "=================================================================\n",
      "conv2d_12 (Conv2D)           (None, 98, 98, 64)        640       \n",
      "_________________________________________________________________\n",
      "max_pooling2d_12 (MaxPooling (None, 49, 49, 64)        0         \n",
      "_________________________________________________________________\n",
      "conv2d_13 (Conv2D)           (None, 49, 49, 128)       73856     \n",
      "_________________________________________________________________\n",
      "max_pooling2d_13 (MaxPooling (None, 24, 24, 128)       0         \n",
      "_________________________________________________________________\n",
      "conv2d_14 (Conv2D)           (None, 24, 24, 96)        110688    \n",
      "_________________________________________________________________\n",
      "max_pooling2d_14 (MaxPooling (None, 12, 12, 96)        0         \n",
      "_________________________________________________________________\n",
      "flatten_4 (Flatten)          (None, 13824)             0         \n",
      "_________________________________________________________________\n",
      "dense_8 (Dense)              (None, 128)               1769600   \n",
      "_________________________________________________________________\n",
      "dense_9 (Dense)              (None, 36)                4644      \n",
      "=================================================================\n",
      "Total params: 1,959,428\n",
      "Trainable params: 1,959,428\n",
      "Non-trainable params: 0\n",
      "_________________________________________________________________\n"
     ]
    }
   ],
   "source": [
    "model.summary()"
   ]
  },
  {
   "cell_type": "code",
   "execution_count": 82,
   "metadata": {},
   "outputs": [
    {
     "name": "stdout",
     "output_type": "stream",
     "text": [
      "Epoch 1/15\n",
      "72/72 [==============================] - 49s 669ms/step - loss: 3.5847 - accuracy: 0.0249 - val_loss: 3.4004 - val_accuracy: 0.0868\n",
      "Epoch 2/15\n",
      "72/72 [==============================] - 56s 774ms/step - loss: 2.6842 - accuracy: 0.2962 - val_loss: 1.4236 - val_accuracy: 0.5799\n",
      "Epoch 3/15\n",
      "72/72 [==============================] - 86s 1s/step - loss: 0.8509 - accuracy: 0.7664 - val_loss: 0.9193 - val_accuracy: 0.7465\n",
      "Epoch 4/15\n",
      "72/72 [==============================] - 51s 708ms/step - loss: 0.3598 - accuracy: 0.9077 - val_loss: 0.8011 - val_accuracy: 0.7882\n",
      "Epoch 5/15\n",
      "72/72 [==============================] - 58s 809ms/step - loss: 0.1849 - accuracy: 0.9526 - val_loss: 0.9040 - val_accuracy: 0.7986\n",
      "Epoch 6/15\n",
      "72/72 [==============================] - 61s 842ms/step - loss: 0.1201 - accuracy: 0.9682 - val_loss: 1.0706 - val_accuracy: 0.7847\n",
      "Epoch 7/15\n",
      "72/72 [==============================] - 57s 786ms/step - loss: 0.1115 - accuracy: 0.9738 - val_loss: 0.8974 - val_accuracy: 0.8003\n",
      "Epoch 8/15\n",
      "72/72 [==============================] - 55s 767ms/step - loss: 0.0627 - accuracy: 0.9830 - val_loss: 0.9633 - val_accuracy: 0.8142\n",
      "Epoch 9/15\n",
      "72/72 [==============================] - 62s 857ms/step - loss: 0.0527 - accuracy: 0.9866 - val_loss: 1.0197 - val_accuracy: 0.8177\n",
      "Epoch 10/15\n",
      "72/72 [==============================] - 57s 789ms/step - loss: 0.0446 - accuracy: 0.9892 - val_loss: 0.9743 - val_accuracy: 0.8247\n",
      "Epoch 11/15\n",
      "72/72 [==============================] - 56s 775ms/step - loss: 0.0331 - accuracy: 0.9928 - val_loss: 0.9850 - val_accuracy: 0.8403\n",
      "Epoch 12/15\n",
      "72/72 [==============================] - 53s 733ms/step - loss: 0.0344 - accuracy: 0.9919 - val_loss: 1.0071 - val_accuracy: 0.8333\n",
      "Epoch 13/15\n",
      "72/72 [==============================] - 61s 844ms/step - loss: 0.0198 - accuracy: 0.9950 - val_loss: 1.0924 - val_accuracy: 0.8472\n",
      "Epoch 14/15\n",
      "72/72 [==============================] - 59s 817ms/step - loss: 0.0221 - accuracy: 0.9944 - val_loss: 1.2681 - val_accuracy: 0.7934\n",
      "Epoch 15/15\n",
      "72/72 [==============================] - 66s 915ms/step - loss: 0.1033 - accuracy: 0.9711 - val_loss: 1.1010 - val_accuracy: 0.8125\n"
     ]
    }
   ],
   "source": [
    "model_result = model.fit(X_train, y_train, validation_data = (X_test,y_test), epochs =15 ,batch_size=32)\n"
   ]
  },
  {
   "cell_type": "code",
   "execution_count": 83,
   "metadata": {},
   "outputs": [],
   "source": [
    "model.save(\"models/cnn_model.h5\")"
   ]
  },
  {
   "cell_type": "code",
   "execution_count": null,
   "metadata": {},
   "outputs": [],
   "source": []
  },
  {
   "cell_type": "code",
   "execution_count": null,
   "metadata": {},
   "outputs": [],
   "source": []
  },
  {
   "cell_type": "markdown",
   "metadata": {},
   "source": [
    "# testing"
   ]
  },
  {
   "cell_type": "code",
   "execution_count": 85,
   "metadata": {},
   "outputs": [
    {
     "data": {
      "text/plain": [
       "array([[7.5906169e-01, 6.3947926e-05, 9.7575025e-08, 4.9664795e-06,\n",
       "        1.7733513e-11, 6.4884411e-08, 4.9431810e-09, 2.3941999e-12,\n",
       "        2.6572714e-05, 2.4354836e-07, 1.9729494e-08, 1.4898778e-05,\n",
       "        3.0918291e-02, 6.2765961e-04, 2.2973300e-06, 2.3986485e-11,\n",
       "        1.5189493e-04, 9.0648274e-11, 2.3207544e-05, 1.9834258e-02,\n",
       "        2.5376429e-10, 7.5045932e-07, 1.9254989e-10, 3.1380343e-09,\n",
       "        1.8615183e-01, 6.7590736e-07, 1.3555838e-04, 3.3948819e-09,\n",
       "        5.5296869e-08, 2.4778888e-07, 2.9805102e-03, 2.2555171e-09,\n",
       "        1.1786431e-09, 1.2567366e-11, 2.0732496e-11, 5.8601632e-08]],\n",
       "      dtype=float32)"
      ]
     },
     "execution_count": 85,
     "metadata": {},
     "output_type": "execute_result"
    }
   ],
   "source": [
    "pic1_array = cv2.imread(\"Images/Sample001/img001-00001.png\", cv2.IMREAD_GRAYSCALE)\n",
    "new_array1 = cv2.resize(pic1_array,(100,100))\n",
    "img1_batch = np.expand_dims(new_array1, axis=0)\n",
    "uimg = np.resize(img1_batch,(1,100,100,1))\n",
    "\n",
    "uimg = uimg/255.0\n",
    "pred = model.predict(uimg)\n",
    "\n",
    "pred\n"
   ]
  },
  {
   "cell_type": "code",
   "execution_count": 87,
   "metadata": {},
   "outputs": [],
   "source": [
    "a = pred[0].argmax()"
   ]
  },
  {
   "cell_type": "code",
   "execution_count": 88,
   "metadata": {},
   "outputs": [
    {
     "data": {
      "text/plain": [
       "0"
      ]
     },
     "execution_count": 88,
     "metadata": {},
     "output_type": "execute_result"
    }
   ],
   "source": [
    "Class[a]"
   ]
  },
  {
   "cell_type": "code",
   "execution_count": 94,
   "metadata": {},
   "outputs": [
    {
     "data": {
      "image/png": "[encoded data removed]",
      "text/plain": [
       "<PIL.PngImagePlugin.PngImageFile image mode=RGB size=103x96 at 0x7FBC1068B0A0>"
      ]
     },
     "execution_count": 94,
     "metadata": {},
     "output_type": "execute_result"
    }
   ],
   "source": [
    "load_img(\"Images/Sample001/img001-00001.png\")"
   ]
  },
  {
   "cell_type": "code",
   "execution_count": null,
   "metadata": {},
   "outputs": [],
   "source": []
  },
  {
   "cell_type": "code",
   "execution_count": null,
   "metadata": {},
   "outputs": [],
   "source": []
  },
  {
   "cell_type": "code",
   "execution_count": 90,
   "metadata": {},
   "outputs": [
    {
     "data": {
      "text/plain": [
       "array([[4.7106782e-14, 2.2881477e-13, 3.6552750e-11, 1.1456986e-12,\n",
       "        1.7748658e-11, 2.8339867e-20, 1.2888985e-15, 1.7679059e-26,\n",
       "        3.4180598e-14, 2.6390696e-19, 1.0000000e+00, 5.3362363e-11,\n",
       "        4.4107047e-17, 1.5444163e-16, 1.8701042e-18, 1.8255075e-19,\n",
       "        9.2783217e-14, 1.7530466e-12, 2.7442722e-11, 1.1339447e-14,\n",
       "        1.9604035e-20, 7.3119431e-16, 7.6736331e-19, 2.4724100e-15,\n",
       "        1.3217130e-19, 1.4512933e-16, 2.3220896e-09, 1.5906330e-08,\n",
       "        1.2704265e-16, 1.3012098e-22, 1.2907705e-19, 4.5451084e-26,\n",
       "        4.8037529e-14, 2.9073173e-14, 5.9469161e-27, 1.8014732e-21]],\n",
       "      dtype=float32)"
      ]
     },
     "execution_count": 90,
     "metadata": {},
     "output_type": "execute_result"
    }
   ],
   "source": [
    "pic2_array = cv2.imread(\"Images/Sample011/img011-00001.png\", cv2.IMREAD_GRAYSCALE)\n",
    "new_array2 = cv2.resize(pic2_array,(100,100))\n",
    "img2_batch = np.expand_dims(new_array2, axis=0)\n",
    "uimg2 = np.resize(img2_batch,(1,100,100,1))\n",
    "\n",
    "uimg2 = uimg2/255.0\n",
    "pred2 = model.predict(uimg2)\n",
    "\n",
    "pred2\n"
   ]
  },
  {
   "cell_type": "code",
   "execution_count": 92,
   "metadata": {},
   "outputs": [
    {
     "data": {
      "text/plain": [
       "'A'"
      ]
     },
     "execution_count": 92,
     "metadata": {},
     "output_type": "execute_result"
    }
   ],
   "source": [
    "Class[pred2[0].argmax()]"
   ]
  },
  {
   "cell_type": "code",
   "execution_count": 93,
   "metadata": {},
   "outputs": [
    {
     "data": {
      "image/png": "[encoded data removed]",
      "text/plain": [
       "<PIL.PngImagePlugin.PngImageFile image mode=RGB size=254x182 at 0x7FBB816E56A0>"
      ]
     },
     "execution_count": 93,
     "metadata": {},
     "output_type": "execute_result"
    }
   ],
   "source": [
    "load_img(\"Images/Sample011/img011-00001.png\")"
   ]
  },
  {
   "cell_type": "code",
   "execution_count": null,
   "metadata": {},
   "outputs": [],
   "source": []
  }
 ],
 "metadata": {
  "kernelspec": {
   "display_name": "Python 3",
   "language": "python",
   "name": "python3"
  },
  "language_info": {
   "codemirror_mode": {
    "name": "ipython",
    "version": 3
   },
   "file_extension": ".py",
   "mimetype": "text/x-python",
   "name": "python",
   "nbconvert_exporter": "python",
   "pygments_lexer": "ipython3",
   "version": "3.8.5"
  }
 },
 "nbformat": 4,
 "nbformat_minor": 4
}
